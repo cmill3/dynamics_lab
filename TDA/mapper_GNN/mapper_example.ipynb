{
 "cells": [
  {
   "cell_type": "code",
   "execution_count": 1,
   "metadata": {},
   "outputs": [
    {
     "name": "stderr",
     "output_type": "stream",
     "text": [
      "/Users/charlesmiller/.local/share/virtualenvs/dynamics_lab-5gulJLF-/lib/python3.9/site-packages/tqdm/auto.py:21: TqdmWarning: IProgress not found. Please update jupyter and ipywidgets. See https://ipywidgets.readthedocs.io/en/stable/user_install.html\n",
      "  from .autonotebook import tqdm as notebook_tqdm\n"
     ]
    }
   ],
   "source": [
    "import yfinance as yf\n",
    "import kmapper as km\n",
    "from kmapper.jupyter import display\n",
    "from umap import UMAP\n",
    "import sklearn\n",
    "import sklearn.manifold as manifold\n",
    "import numpy as np\n",
    "import matplotlib.pyplot as plt"
   ]
  },
  {
   "cell_type": "code",
   "execution_count": 2,
   "metadata": {},
   "outputs": [],
   "source": [
    "# read text file with ticker names\n",
    "filename = open(\"SP500_tickernames.txt\", \"r\")\n",
    "raw_tickernames = filename.read()\n",
    "ticker_names = raw_tickernames.split(\"\\n\")\n",
    "ticker_names = ticker_names[:len(ticker_names)-1]"
   ]
  },
  {
   "cell_type": "code",
   "execution_count": 3,
   "metadata": {},
   "outputs": [
    {
     "name": "stderr",
     "output_type": "stream",
     "text": [
      "[*********************100%***********************]  495 of 495 completed\n",
      "\n",
      "31 Failed downloads:\n",
      "['NLOK', 'DISCA', 'NLSN', 'DISH', 'PEAK', 'FLT', 'PBCT', 'BLL', 'ABC', 'FBHS', 'DRE', 'WRK', 'ABMD', 'CTXS', 'DISCK', 'RE', 'FRC', 'CDAY', 'CERN', 'XLNX', 'VIAC', 'ANTM', 'FB', 'ATVI', 'PXD', 'INFO', 'PKI', 'TWTR']: YFTzMissingError('$%ticker%: possibly delisted; no timezone found')\n",
      "['SIVB']: YFPricesMissingError('$%ticker%: possibly delisted; no price data found  (1d 2020-01-01 -> 2022-04-02)')\n",
      "['FISV', 'SBNY']: YFPricesMissingError('$%ticker%: possibly delisted; no price data found  (1d 2020-01-01 -> 2022-04-02) (Yahoo error = \"Data doesn\\'t exist for startDate = 1577854800, endDate = 1648872000\")')\n"
     ]
    }
   ],
   "source": [
    "# define date range\n",
    "start_date_string = \"2020-01-01\"\n",
    "end_date_string = \"2022-04-02\"\n",
    "\n",
    "# pull historical data\n",
    "raw_data = yf.download(ticker_names, start=start_date_string, end=end_date_string)"
   ]
  },
  {
   "cell_type": "code",
   "execution_count": 4,
   "metadata": {},
   "outputs": [],
   "source": [
    "# get daily close prices and drop missing columns\n",
    "df_close = raw_data['Adj Close'].dropna(axis='columns')"
   ]
  },
  {
   "cell_type": "code",
   "execution_count": 5,
   "metadata": {},
   "outputs": [],
   "source": [
    "# convert pandas dataframe to numpy array, standardize ticker data, and transpose array\n",
    "data = df_close.to_numpy()\n",
    "data = data-np.mean(data, axis=0)/np.std(data, axis=0)\n",
    "data = data.transpose()"
   ]
  },
  {
   "cell_type": "code",
   "execution_count": 6,
   "metadata": {},
   "outputs": [],
   "source": [
    "# calculate percent return of each ticker over date range\n",
    "per_return = (df_close.to_numpy().transpose()[:,504] - df_close.to_numpy().transpose()[:,0])/df_close.to_numpy().transpose()[:,0]"
   ]
  },
  {
   "cell_type": "code",
   "execution_count": 7,
   "metadata": {},
   "outputs": [
    {
     "name": "stdout",
     "output_type": "stream",
     "text": [
      "KeplerMapper(verbose=1)\n"
     ]
    }
   ],
   "source": [
    "# initialize mapper\n",
    "mapper = km.KeplerMapper(verbose=1)"
   ]
  },
  {
   "cell_type": "code",
   "execution_count": 8,
   "metadata": {},
   "outputs": [
    {
     "name": "stdout",
     "output_type": "stream",
     "text": [
      "..Composing projection pipeline of length 2:\n",
      "\tProjections: Isomap(n_components=100, n_jobs=-1)\n",
      "\t\tUMAP(random_state=1)\n",
      "\tDistance matrices: False\n",
      "False\n",
      "\tScalers: MinMaxScaler()\n",
      "MinMaxScaler()\n",
      "..Projecting on data shaped (464, 568)\n",
      "\n",
      "..Projecting data using: \n",
      "\tIsomap(n_components=100, n_jobs=-1)\n",
      "\n"
     ]
    },
    {
     "name": "stderr",
     "output_type": "stream",
     "text": [
      "/Users/charlesmiller/.local/share/virtualenvs/dynamics_lab-5gulJLF-/lib/python3.9/site-packages/sklearn/manifold/_isomap.py:383: UserWarning: The number of connected components of the neighbors graph is 2 > 1. Completing the graph to fit Isomap might be slow. Increase the number of neighbors to avoid this issue.\n",
      "  self._fit_transform(X)\n",
      "/Users/charlesmiller/.local/share/virtualenvs/dynamics_lab-5gulJLF-/lib/python3.9/site-packages/scipy/sparse/_index.py:108: SparseEfficiencyWarning: Changing the sparsity structure of a csr_matrix is expensive. lil_matrix is more efficient.\n",
      "  self._set_intXint(row, col, x.flat[0])\n"
     ]
    },
    {
     "name": "stdout",
     "output_type": "stream",
     "text": [
      "\n",
      "..Scaling with: MinMaxScaler()\n",
      "\n",
      "..Projecting on data shaped (464, 100)\n",
      "\n",
      "..Projecting data using: \n",
      "\tUMAP(random_state=1, verbose=1)\n",
      "\n",
      "UMAP(n_jobs=1, random_state=1, verbose=1)\n"
     ]
    },
    {
     "name": "stderr",
     "output_type": "stream",
     "text": [
      "/Users/charlesmiller/.local/share/virtualenvs/dynamics_lab-5gulJLF-/lib/python3.9/site-packages/umap/umap_.py:1945: UserWarning: n_jobs value 1 overridden to 1 by setting random_state. Use no seed for parallelism.\n",
      "  warn(f\"n_jobs value {self.n_jobs} overridden to 1 by setting random_state. Use no seed for parallelism.\")\n"
     ]
    },
    {
     "name": "stdout",
     "output_type": "stream",
     "text": [
      "Mon Sep 23 14:17:54 2024 Construct fuzzy simplicial set\n",
      "Mon Sep 23 14:17:54 2024 Finding Nearest Neighbors\n",
      "Mon Sep 23 14:17:55 2024 Finished Nearest Neighbor Search\n",
      "Mon Sep 23 14:17:56 2024 Construct embedding\n"
     ]
    },
    {
     "name": "stderr",
     "output_type": "stream",
     "text": [
      "Epochs completed:  25%| ██▍        124/500 [00:00]"
     ]
    },
    {
     "name": "stdout",
     "output_type": "stream",
     "text": [
      "\tcompleted  0  /  500 epochs\n",
      "\tcompleted  50  /  500 epochs\n",
      "\tcompleted  100  /  500 epochs\n",
      "\tcompleted  150  /  500 epochs\n",
      "\tcompleted  200  /  500 epochs\n"
     ]
    },
    {
     "name": "stderr",
     "output_type": "stream",
     "text": [
      "Epochs completed: 100%| ██████████ 500/500 [00:00]"
     ]
    },
    {
     "name": "stdout",
     "output_type": "stream",
     "text": [
      "\tcompleted  250  /  500 epochs\n",
      "\tcompleted  300  /  500 epochs\n",
      "\tcompleted  350  /  500 epochs\n",
      "\tcompleted  400  /  500 epochs\n",
      "\tcompleted  450  /  500 epochs\n",
      "Mon Sep 23 14:17:57 2024 Finished embedding\n",
      "\n",
      "..Scaling with: MinMaxScaler()\n",
      "\n"
     ]
    },
    {
     "name": "stderr",
     "output_type": "stream",
     "text": [
      "\n"
     ]
    }
   ],
   "source": [
    "# project data into 2D subsapce via 2 step transformation, 1)isomap 2)UMAP\n",
    "projected_data = mapper.fit_transform(data, projection=[manifold.Isomap(n_components=100, n_jobs=-1), UMAP(n_components=2,random_state=1)])"
   ]
  },
  {
   "cell_type": "code",
   "execution_count": 9,
   "metadata": {},
   "outputs": [
    {
     "name": "stdout",
     "output_type": "stream",
     "text": [
      "Mapping on data shaped (464, 568) using lens shaped (464, 2)\n",
      "\n",
      "Creating 100 hypercubes.\n",
      "\n",
      "Created 59 edges and 46 nodes in 0:00:00.053290.\n"
     ]
    }
   ],
   "source": [
    "# cluster data using DBSCAN\n",
    "G = mapper.map(projected_data, data, clusterer=sklearn.cluster.DBSCAN(metric=\"cosine\"))"
   ]
  },
  {
   "cell_type": "code",
   "execution_count": null,
   "metadata": {},
   "outputs": [],
   "source": [
    "fileID = \"test\""
   ]
  },
  {
   "cell_type": "code",
   "execution_count": null,
   "metadata": {},
   "outputs": [],
   "source": [
    "# visualize graph\n",
    "mapper.visualize(G, \n",
    "                path_html=\"mapper_example_\" + fileID + \".html\",\n",
    "                title=fileID,\n",
    "                custom_tooltips = df_close.columns.to_numpy(),\n",
    "                color_values = np.log(per_return+1),\n",
    "                color_function_name = 'Log Percent Returns',\n",
    "                node_color_function = np.array(['average', 'std', 'sum', 'max', 'min']))\n",
    "\n",
    "# display mapper in jupyter\n",
    "km.jupyter.display(\"mapper_example_\" + fileID + \".html\")"
   ]
  },
  {
   "cell_type": "code",
   "execution_count": null,
   "metadata": {},
   "outputs": [],
   "source": []
  },
  {
   "cell_type": "code",
   "execution_count": null,
   "metadata": {},
   "outputs": [],
   "source": []
  }
 ],
 "metadata": {
  "kernelspec": {
   "display_name": "dynamics_lab-5gulJLF-",
   "language": "python",
   "name": "python3"
  },
  "language_info": {
   "codemirror_mode": {
    "name": "ipython",
    "version": 3
   },
   "file_extension": ".py",
   "mimetype": "text/x-python",
   "name": "python",
   "nbconvert_exporter": "python",
   "pygments_lexer": "ipython3",
   "version": "3.9.18"
  }
 },
 "nbformat": 4,
 "nbformat_minor": 2
}
