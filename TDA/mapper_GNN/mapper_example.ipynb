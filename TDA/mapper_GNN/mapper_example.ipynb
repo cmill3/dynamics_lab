{
 "cells": [
  {
   "cell_type": "code",
   "execution_count": 13,
   "metadata": {},
   "outputs": [],
   "source": [
    "import yfinance as yf\n",
    "import kmapper as km\n",
    "from kmapper.jupyter import display\n",
    "from umap import UMAP\n",
    "import sklearn\n",
    "import sklearn.manifold as manifold\n",
    "import numpy as np\n",
    "import matplotlib.pyplot as plt"
   ]
  },
  {
   "cell_type": "code",
   "execution_count": 2,
   "metadata": {},
   "outputs": [],
   "source": [
    "# read text file with ticker names\n",
    "filename = open(\"SP500_tickernames.txt\", \"r\")\n",
    "raw_tickernames = filename.read()\n",
    "ticker_names = raw_tickernames.split(\"\\n\")\n",
    "ticker_names = ticker_names[:len(ticker_names)-1]"
   ]
  },
  {
   "cell_type": "code",
   "execution_count": 3,
   "metadata": {},
   "outputs": [
    {
     "name": "stderr",
     "output_type": "stream",
     "text": [
      "[*********************100%***********************]  495 of 495 completed\n",
      "\n",
      "31 Failed downloads:\n",
      "['NLOK', 'DISCA', 'NLSN', 'DISH', 'PEAK', 'FLT', 'PBCT', 'BLL', 'ABC', 'FBHS', 'DRE', 'WRK', 'ABMD', 'CTXS', 'DISCK', 'RE', 'FRC', 'CDAY', 'CERN', 'XLNX', 'VIAC', 'ANTM', 'FB', 'ATVI', 'PXD', 'INFO', 'PKI', 'TWTR']: YFTzMissingError('$%ticker%: possibly delisted; no timezone found')\n",
      "['SIVB']: YFPricesMissingError('$%ticker%: possibly delisted; no price data found  (1d 2020-01-01 -> 2022-04-02)')\n",
      "['FISV', 'SBNY']: YFPricesMissingError('$%ticker%: possibly delisted; no price data found  (1d 2020-01-01 -> 2022-04-02) (Yahoo error = \"Data doesn\\'t exist for startDate = 1577854800, endDate = 1648872000\")')\n"
     ]
    }
   ],
   "source": [
    "# define date range\n",
    "start_date_string = \"2020-01-01\"\n",
    "end_date_string = \"2022-04-02\"\n",
    "\n",
    "# pull historical data\n",
    "raw_data = yf.download(ticker_names, start=start_date_string, end=end_date_string)"
   ]
  },
  {
   "cell_type": "code",
   "execution_count": 4,
   "metadata": {},
   "outputs": [],
   "source": [
    "# get daily close prices and drop missing columns\n",
    "df_close = raw_data['Adj Close'].dropna(axis='columns')"
   ]
  },
  {
   "cell_type": "code",
   "execution_count": 17,
   "metadata": {},
   "outputs": [
    {
     "data": {
      "text/html": [
       "<div>\n",
       "<style scoped>\n",
       "    .dataframe tbody tr th:only-of-type {\n",
       "        vertical-align: middle;\n",
       "    }\n",
       "\n",
       "    .dataframe tbody tr th {\n",
       "        vertical-align: top;\n",
       "    }\n",
       "\n",
       "    .dataframe thead th {\n",
       "        text-align: right;\n",
       "    }\n",
       "</style>\n",
       "<table border=\"1\" class=\"dataframe\">\n",
       "  <thead>\n",
       "    <tr style=\"text-align: right;\">\n",
       "      <th>Ticker</th>\n",
       "      <th>A</th>\n",
       "      <th>AAL</th>\n",
       "      <th>AAP</th>\n",
       "      <th>AAPL</th>\n",
       "      <th>ABBV</th>\n",
       "      <th>ABT</th>\n",
       "      <th>ACN</th>\n",
       "      <th>ADBE</th>\n",
       "      <th>ADI</th>\n",
       "      <th>ADM</th>\n",
       "      <th>...</th>\n",
       "      <th>WYNN</th>\n",
       "      <th>XEL</th>\n",
       "      <th>XOM</th>\n",
       "      <th>XRAY</th>\n",
       "      <th>XYL</th>\n",
       "      <th>YUM</th>\n",
       "      <th>ZBH</th>\n",
       "      <th>ZBRA</th>\n",
       "      <th>ZION</th>\n",
       "      <th>ZTS</th>\n",
       "    </tr>\n",
       "    <tr>\n",
       "      <th>Date</th>\n",
       "      <th></th>\n",
       "      <th></th>\n",
       "      <th></th>\n",
       "      <th></th>\n",
       "      <th></th>\n",
       "      <th></th>\n",
       "      <th></th>\n",
       "      <th></th>\n",
       "      <th></th>\n",
       "      <th></th>\n",
       "      <th></th>\n",
       "      <th></th>\n",
       "      <th></th>\n",
       "      <th></th>\n",
       "      <th></th>\n",
       "      <th></th>\n",
       "      <th></th>\n",
       "      <th></th>\n",
       "      <th></th>\n",
       "      <th></th>\n",
       "      <th></th>\n",
       "    </tr>\n",
       "  </thead>\n",
       "  <tbody>\n",
       "    <tr>\n",
       "      <th>2020-01-02 00:00:00+00:00</th>\n",
       "      <td>83.347336</td>\n",
       "      <td>28.982893</td>\n",
       "      <td>145.572113</td>\n",
       "      <td>72.876099</td>\n",
       "      <td>72.841980</td>\n",
       "      <td>80.065521</td>\n",
       "      <td>196.058395</td>\n",
       "      <td>334.429993</td>\n",
       "      <td>110.377762</td>\n",
       "      <td>40.693859</td>\n",
       "      <td>...</td>\n",
       "      <td>140.138123</td>\n",
       "      <td>54.000290</td>\n",
       "      <td>56.088295</td>\n",
       "      <td>53.747150</td>\n",
       "      <td>75.451195</td>\n",
       "      <td>93.541389</td>\n",
       "      <td>139.936554</td>\n",
       "      <td>259.140015</td>\n",
       "      <td>44.369530</td>\n",
       "      <td>129.515060</td>\n",
       "    </tr>\n",
       "    <tr>\n",
       "      <th>2020-01-03 00:00:00+00:00</th>\n",
       "      <td>82.009140</td>\n",
       "      <td>27.548195</td>\n",
       "      <td>145.581223</td>\n",
       "      <td>72.167603</td>\n",
       "      <td>72.150551</td>\n",
       "      <td>79.089455</td>\n",
       "      <td>195.731873</td>\n",
       "      <td>331.809998</td>\n",
       "      <td>108.434708</td>\n",
       "      <td>40.614433</td>\n",
       "      <td>...</td>\n",
       "      <td>138.059448</td>\n",
       "      <td>54.259995</td>\n",
       "      <td>55.637379</td>\n",
       "      <td>53.152374</td>\n",
       "      <td>75.895287</td>\n",
       "      <td>93.248428</td>\n",
       "      <td>139.570770</td>\n",
       "      <td>256.049988</td>\n",
       "      <td>43.743416</td>\n",
       "      <td>129.534378</td>\n",
       "    </tr>\n",
       "    <tr>\n",
       "      <th>2020-01-06 00:00:00+00:00</th>\n",
       "      <td>82.251556</td>\n",
       "      <td>27.219410</td>\n",
       "      <td>143.188705</td>\n",
       "      <td>72.742661</td>\n",
       "      <td>72.719933</td>\n",
       "      <td>79.503830</td>\n",
       "      <td>194.453705</td>\n",
       "      <td>333.709991</td>\n",
       "      <td>107.160721</td>\n",
       "      <td>40.296711</td>\n",
       "      <td>...</td>\n",
       "      <td>137.786179</td>\n",
       "      <td>54.182083</td>\n",
       "      <td>56.064564</td>\n",
       "      <td>53.445045</td>\n",
       "      <td>75.403931</td>\n",
       "      <td>93.193504</td>\n",
       "      <td>138.764175</td>\n",
       "      <td>258.010010</td>\n",
       "      <td>43.210365</td>\n",
       "      <td>128.539902</td>\n",
       "    </tr>\n",
       "    <tr>\n",
       "      <th>2020-01-07 00:00:00+00:00</th>\n",
       "      <td>82.503700</td>\n",
       "      <td>27.119778</td>\n",
       "      <td>141.490158</td>\n",
       "      <td>72.400543</td>\n",
       "      <td>72.305099</td>\n",
       "      <td>79.061829</td>\n",
       "      <td>190.255493</td>\n",
       "      <td>333.390015</td>\n",
       "      <td>109.598717</td>\n",
       "      <td>39.811317</td>\n",
       "      <td>...</td>\n",
       "      <td>138.440063</td>\n",
       "      <td>54.069542</td>\n",
       "      <td>55.605736</td>\n",
       "      <td>53.728275</td>\n",
       "      <td>75.120468</td>\n",
       "      <td>93.358299</td>\n",
       "      <td>138.642242</td>\n",
       "      <td>256.470001</td>\n",
       "      <td>42.948082</td>\n",
       "      <td>128.974365</td>\n",
       "    </tr>\n",
       "    <tr>\n",
       "      <th>2020-01-08 00:00:00+00:00</th>\n",
       "      <td>83.318245</td>\n",
       "      <td>27.737495</td>\n",
       "      <td>139.864700</td>\n",
       "      <td>73.565201</td>\n",
       "      <td>72.817543</td>\n",
       "      <td>79.384109</td>\n",
       "      <td>190.628647</td>\n",
       "      <td>337.869995</td>\n",
       "      <td>110.588554</td>\n",
       "      <td>39.370045</td>\n",
       "      <td>...</td>\n",
       "      <td>139.308594</td>\n",
       "      <td>54.017597</td>\n",
       "      <td>54.767193</td>\n",
       "      <td>54.294727</td>\n",
       "      <td>75.375587</td>\n",
       "      <td>93.523094</td>\n",
       "      <td>140.302307</td>\n",
       "      <td>247.639999</td>\n",
       "      <td>43.371128</td>\n",
       "      <td>128.694397</td>\n",
       "    </tr>\n",
       "    <tr>\n",
       "      <th>...</th>\n",
       "      <td>...</td>\n",
       "      <td>...</td>\n",
       "      <td>...</td>\n",
       "      <td>...</td>\n",
       "      <td>...</td>\n",
       "      <td>...</td>\n",
       "      <td>...</td>\n",
       "      <td>...</td>\n",
       "      <td>...</td>\n",
       "      <td>...</td>\n",
       "      <td>...</td>\n",
       "      <td>...</td>\n",
       "      <td>...</td>\n",
       "      <td>...</td>\n",
       "      <td>...</td>\n",
       "      <td>...</td>\n",
       "      <td>...</td>\n",
       "      <td>...</td>\n",
       "      <td>...</td>\n",
       "      <td>...</td>\n",
       "      <td>...</td>\n",
       "    </tr>\n",
       "    <tr>\n",
       "      <th>2022-03-28 00:00:00+00:00</th>\n",
       "      <td>133.100739</td>\n",
       "      <td>17.299999</td>\n",
       "      <td>198.160248</td>\n",
       "      <td>173.180328</td>\n",
       "      <td>147.224899</td>\n",
       "      <td>114.368202</td>\n",
       "      <td>318.213684</td>\n",
       "      <td>450.010010</td>\n",
       "      <td>159.844360</td>\n",
       "      <td>86.758888</td>\n",
       "      <td>...</td>\n",
       "      <td>78.854431</td>\n",
       "      <td>65.525688</td>\n",
       "      <td>75.924477</td>\n",
       "      <td>47.963993</td>\n",
       "      <td>84.222054</td>\n",
       "      <td>115.519585</td>\n",
       "      <td>123.411331</td>\n",
       "      <td>422.279999</td>\n",
       "      <td>63.113716</td>\n",
       "      <td>185.198517</td>\n",
       "    </tr>\n",
       "    <tr>\n",
       "      <th>2022-03-29 00:00:00+00:00</th>\n",
       "      <td>136.049316</td>\n",
       "      <td>18.160000</td>\n",
       "      <td>202.829651</td>\n",
       "      <td>176.494049</td>\n",
       "      <td>147.415756</td>\n",
       "      <td>114.558838</td>\n",
       "      <td>327.786896</td>\n",
       "      <td>466.329987</td>\n",
       "      <td>162.634933</td>\n",
       "      <td>82.521919</td>\n",
       "      <td>...</td>\n",
       "      <td>80.448639</td>\n",
       "      <td>66.068367</td>\n",
       "      <td>75.521065</td>\n",
       "      <td>47.858128</td>\n",
       "      <td>86.568840</td>\n",
       "      <td>116.501389</td>\n",
       "      <td>127.240952</td>\n",
       "      <td>438.100006</td>\n",
       "      <td>63.122749</td>\n",
       "      <td>188.044388</td>\n",
       "    </tr>\n",
       "    <tr>\n",
       "      <th>2022-03-30 00:00:00+00:00</th>\n",
       "      <td>133.140060</td>\n",
       "      <td>18.049999</td>\n",
       "      <td>199.412308</td>\n",
       "      <td>175.320450</td>\n",
       "      <td>148.842850</td>\n",
       "      <td>114.739922</td>\n",
       "      <td>325.641327</td>\n",
       "      <td>460.059998</td>\n",
       "      <td>159.098969</td>\n",
       "      <td>83.893547</td>\n",
       "      <td>...</td>\n",
       "      <td>79.877869</td>\n",
       "      <td>66.519073</td>\n",
       "      <td>76.813820</td>\n",
       "      <td>47.684910</td>\n",
       "      <td>85.434219</td>\n",
       "      <td>115.185966</td>\n",
       "      <td>126.367012</td>\n",
       "      <td>429.609985</td>\n",
       "      <td>60.977638</td>\n",
       "      <td>187.105560</td>\n",
       "    </tr>\n",
       "    <tr>\n",
       "      <th>2022-03-31 00:00:00+00:00</th>\n",
       "      <td>130.063660</td>\n",
       "      <td>18.250000</td>\n",
       "      <td>194.836990</td>\n",
       "      <td>172.204010</td>\n",
       "      <td>147.352142</td>\n",
       "      <td>112.814575</td>\n",
       "      <td>324.457916</td>\n",
       "      <td>455.619995</td>\n",
       "      <td>157.856583</td>\n",
       "      <td>84.795425</td>\n",
       "      <td>...</td>\n",
       "      <td>78.470634</td>\n",
       "      <td>66.381096</td>\n",
       "      <td>75.722763</td>\n",
       "      <td>47.367332</td>\n",
       "      <td>82.680176</td>\n",
       "      <td>112.984039</td>\n",
       "      <td>125.591263</td>\n",
       "      <td>413.700012</td>\n",
       "      <td>59.339371</td>\n",
       "      <td>184.435684</td>\n",
       "    </tr>\n",
       "    <tr>\n",
       "      <th>2022-04-01 00:00:00+00:00</th>\n",
       "      <td>131.675568</td>\n",
       "      <td>18.240000</td>\n",
       "      <td>195.326538</td>\n",
       "      <td>171.908142</td>\n",
       "      <td>147.870239</td>\n",
       "      <td>113.024261</td>\n",
       "      <td>327.738800</td>\n",
       "      <td>458.190002</td>\n",
       "      <td>158.028610</td>\n",
       "      <td>85.650330</td>\n",
       "      <td>...</td>\n",
       "      <td>79.346458</td>\n",
       "      <td>66.914581</td>\n",
       "      <td>76.208710</td>\n",
       "      <td>47.396194</td>\n",
       "      <td>83.620811</td>\n",
       "      <td>113.260468</td>\n",
       "      <td>125.424324</td>\n",
       "      <td>413.730011</td>\n",
       "      <td>58.198929</td>\n",
       "      <td>186.900177</td>\n",
       "    </tr>\n",
       "  </tbody>\n",
       "</table>\n",
       "<p>568 rows × 464 columns</p>\n",
       "</div>"
      ],
      "text/plain": [
       "Ticker                              A        AAL         AAP        AAPL  \\\n",
       "Date                                                                       \n",
       "2020-01-02 00:00:00+00:00   83.347336  28.982893  145.572113   72.876099   \n",
       "2020-01-03 00:00:00+00:00   82.009140  27.548195  145.581223   72.167603   \n",
       "2020-01-06 00:00:00+00:00   82.251556  27.219410  143.188705   72.742661   \n",
       "2020-01-07 00:00:00+00:00   82.503700  27.119778  141.490158   72.400543   \n",
       "2020-01-08 00:00:00+00:00   83.318245  27.737495  139.864700   73.565201   \n",
       "...                               ...        ...         ...         ...   \n",
       "2022-03-28 00:00:00+00:00  133.100739  17.299999  198.160248  173.180328   \n",
       "2022-03-29 00:00:00+00:00  136.049316  18.160000  202.829651  176.494049   \n",
       "2022-03-30 00:00:00+00:00  133.140060  18.049999  199.412308  175.320450   \n",
       "2022-03-31 00:00:00+00:00  130.063660  18.250000  194.836990  172.204010   \n",
       "2022-04-01 00:00:00+00:00  131.675568  18.240000  195.326538  171.908142   \n",
       "\n",
       "Ticker                           ABBV         ABT         ACN        ADBE  \\\n",
       "Date                                                                        \n",
       "2020-01-02 00:00:00+00:00   72.841980   80.065521  196.058395  334.429993   \n",
       "2020-01-03 00:00:00+00:00   72.150551   79.089455  195.731873  331.809998   \n",
       "2020-01-06 00:00:00+00:00   72.719933   79.503830  194.453705  333.709991   \n",
       "2020-01-07 00:00:00+00:00   72.305099   79.061829  190.255493  333.390015   \n",
       "2020-01-08 00:00:00+00:00   72.817543   79.384109  190.628647  337.869995   \n",
       "...                               ...         ...         ...         ...   \n",
       "2022-03-28 00:00:00+00:00  147.224899  114.368202  318.213684  450.010010   \n",
       "2022-03-29 00:00:00+00:00  147.415756  114.558838  327.786896  466.329987   \n",
       "2022-03-30 00:00:00+00:00  148.842850  114.739922  325.641327  460.059998   \n",
       "2022-03-31 00:00:00+00:00  147.352142  112.814575  324.457916  455.619995   \n",
       "2022-04-01 00:00:00+00:00  147.870239  113.024261  327.738800  458.190002   \n",
       "\n",
       "Ticker                            ADI        ADM  ...        WYNN        XEL  \\\n",
       "Date                                              ...                          \n",
       "2020-01-02 00:00:00+00:00  110.377762  40.693859  ...  140.138123  54.000290   \n",
       "2020-01-03 00:00:00+00:00  108.434708  40.614433  ...  138.059448  54.259995   \n",
       "2020-01-06 00:00:00+00:00  107.160721  40.296711  ...  137.786179  54.182083   \n",
       "2020-01-07 00:00:00+00:00  109.598717  39.811317  ...  138.440063  54.069542   \n",
       "2020-01-08 00:00:00+00:00  110.588554  39.370045  ...  139.308594  54.017597   \n",
       "...                               ...        ...  ...         ...        ...   \n",
       "2022-03-28 00:00:00+00:00  159.844360  86.758888  ...   78.854431  65.525688   \n",
       "2022-03-29 00:00:00+00:00  162.634933  82.521919  ...   80.448639  66.068367   \n",
       "2022-03-30 00:00:00+00:00  159.098969  83.893547  ...   79.877869  66.519073   \n",
       "2022-03-31 00:00:00+00:00  157.856583  84.795425  ...   78.470634  66.381096   \n",
       "2022-04-01 00:00:00+00:00  158.028610  85.650330  ...   79.346458  66.914581   \n",
       "\n",
       "Ticker                           XOM       XRAY        XYL         YUM  \\\n",
       "Date                                                                     \n",
       "2020-01-02 00:00:00+00:00  56.088295  53.747150  75.451195   93.541389   \n",
       "2020-01-03 00:00:00+00:00  55.637379  53.152374  75.895287   93.248428   \n",
       "2020-01-06 00:00:00+00:00  56.064564  53.445045  75.403931   93.193504   \n",
       "2020-01-07 00:00:00+00:00  55.605736  53.728275  75.120468   93.358299   \n",
       "2020-01-08 00:00:00+00:00  54.767193  54.294727  75.375587   93.523094   \n",
       "...                              ...        ...        ...         ...   \n",
       "2022-03-28 00:00:00+00:00  75.924477  47.963993  84.222054  115.519585   \n",
       "2022-03-29 00:00:00+00:00  75.521065  47.858128  86.568840  116.501389   \n",
       "2022-03-30 00:00:00+00:00  76.813820  47.684910  85.434219  115.185966   \n",
       "2022-03-31 00:00:00+00:00  75.722763  47.367332  82.680176  112.984039   \n",
       "2022-04-01 00:00:00+00:00  76.208710  47.396194  83.620811  113.260468   \n",
       "\n",
       "Ticker                            ZBH        ZBRA       ZION         ZTS  \n",
       "Date                                                                      \n",
       "2020-01-02 00:00:00+00:00  139.936554  259.140015  44.369530  129.515060  \n",
       "2020-01-03 00:00:00+00:00  139.570770  256.049988  43.743416  129.534378  \n",
       "2020-01-06 00:00:00+00:00  138.764175  258.010010  43.210365  128.539902  \n",
       "2020-01-07 00:00:00+00:00  138.642242  256.470001  42.948082  128.974365  \n",
       "2020-01-08 00:00:00+00:00  140.302307  247.639999  43.371128  128.694397  \n",
       "...                               ...         ...        ...         ...  \n",
       "2022-03-28 00:00:00+00:00  123.411331  422.279999  63.113716  185.198517  \n",
       "2022-03-29 00:00:00+00:00  127.240952  438.100006  63.122749  188.044388  \n",
       "2022-03-30 00:00:00+00:00  126.367012  429.609985  60.977638  187.105560  \n",
       "2022-03-31 00:00:00+00:00  125.591263  413.700012  59.339371  184.435684  \n",
       "2022-04-01 00:00:00+00:00  125.424324  413.730011  58.198929  186.900177  \n",
       "\n",
       "[568 rows x 464 columns]"
      ]
     },
     "execution_count": 17,
     "metadata": {},
     "output_type": "execute_result"
    }
   ],
   "source": [
    "df_close"
   ]
  },
  {
   "cell_type": "code",
   "execution_count": 5,
   "metadata": {},
   "outputs": [],
   "source": [
    "# convert pandas dataframe to numpy array, standardize ticker data, and transpose array\n",
    "data = df_close.to_numpy()\n",
    "data = data-np.mean(data, axis=0)/np.std(data, axis=0)\n",
    "data = data.transpose()"
   ]
  },
  {
   "cell_type": "code",
   "execution_count": 6,
   "metadata": {},
   "outputs": [],
   "source": [
    "# calculate percent return of each ticker over date range\n",
    "per_return = (df_close.to_numpy().transpose()[:,504] - df_close.to_numpy().transpose()[:,0])/df_close.to_numpy().transpose()[:,0]"
   ]
  },
  {
   "cell_type": "code",
   "execution_count": 7,
   "metadata": {},
   "outputs": [
    {
     "name": "stdout",
     "output_type": "stream",
     "text": [
      "KeplerMapper(verbose=1)\n"
     ]
    }
   ],
   "source": [
    "# initialize mapper\n",
    "mapper = km.KeplerMapper(verbose=1)"
   ]
  },
  {
   "cell_type": "code",
   "execution_count": 8,
   "metadata": {},
   "outputs": [
    {
     "name": "stdout",
     "output_type": "stream",
     "text": [
      "..Composing projection pipeline of length 2:\n",
      "\tProjections: Isomap(n_components=100, n_jobs=-1)\n",
      "\t\tUMAP(random_state=1)\n",
      "\tDistance matrices: False\n",
      "False\n",
      "\tScalers: MinMaxScaler()\n",
      "MinMaxScaler()\n",
      "..Projecting on data shaped (464, 568)\n",
      "\n",
      "..Projecting data using: \n",
      "\tIsomap(n_components=100, n_jobs=-1)\n",
      "\n"
     ]
    },
    {
     "name": "stderr",
     "output_type": "stream",
     "text": [
      "/Users/charlesmiller/.local/share/virtualenvs/dynamics_lab-5gulJLF-/lib/python3.9/site-packages/sklearn/manifold/_isomap.py:383: UserWarning: The number of connected components of the neighbors graph is 2 > 1. Completing the graph to fit Isomap might be slow. Increase the number of neighbors to avoid this issue.\n",
      "  self._fit_transform(X)\n",
      "/Users/charlesmiller/.local/share/virtualenvs/dynamics_lab-5gulJLF-/lib/python3.9/site-packages/scipy/sparse/_index.py:108: SparseEfficiencyWarning: Changing the sparsity structure of a csr_matrix is expensive. lil_matrix is more efficient.\n",
      "  self._set_intXint(row, col, x.flat[0])\n"
     ]
    },
    {
     "name": "stdout",
     "output_type": "stream",
     "text": [
      "\n",
      "..Scaling with: MinMaxScaler()\n",
      "\n",
      "..Projecting on data shaped (464, 100)\n",
      "\n",
      "..Projecting data using: \n",
      "\tUMAP(random_state=1, verbose=1)\n",
      "\n",
      "UMAP(n_jobs=1, random_state=1, verbose=1)\n"
     ]
    },
    {
     "name": "stderr",
     "output_type": "stream",
     "text": [
      "/Users/charlesmiller/.local/share/virtualenvs/dynamics_lab-5gulJLF-/lib/python3.9/site-packages/umap/umap_.py:1945: UserWarning: n_jobs value 1 overridden to 1 by setting random_state. Use no seed for parallelism.\n",
      "  warn(f\"n_jobs value {self.n_jobs} overridden to 1 by setting random_state. Use no seed for parallelism.\")\n"
     ]
    },
    {
     "name": "stdout",
     "output_type": "stream",
     "text": [
      "Mon Sep 23 14:17:54 2024 Construct fuzzy simplicial set\n",
      "Mon Sep 23 14:17:54 2024 Finding Nearest Neighbors\n",
      "Mon Sep 23 14:17:55 2024 Finished Nearest Neighbor Search\n",
      "Mon Sep 23 14:17:56 2024 Construct embedding\n"
     ]
    },
    {
     "name": "stderr",
     "output_type": "stream",
     "text": [
      "Epochs completed:  25%| ██▍        124/500 [00:00]"
     ]
    },
    {
     "name": "stdout",
     "output_type": "stream",
     "text": [
      "\tcompleted  0  /  500 epochs\n",
      "\tcompleted  50  /  500 epochs\n",
      "\tcompleted  100  /  500 epochs\n",
      "\tcompleted  150  /  500 epochs\n",
      "\tcompleted  200  /  500 epochs\n"
     ]
    },
    {
     "name": "stderr",
     "output_type": "stream",
     "text": [
      "Epochs completed: 100%| ██████████ 500/500 [00:00]"
     ]
    },
    {
     "name": "stdout",
     "output_type": "stream",
     "text": [
      "\tcompleted  250  /  500 epochs\n",
      "\tcompleted  300  /  500 epochs\n",
      "\tcompleted  350  /  500 epochs\n",
      "\tcompleted  400  /  500 epochs\n",
      "\tcompleted  450  /  500 epochs\n",
      "Mon Sep 23 14:17:57 2024 Finished embedding\n",
      "\n",
      "..Scaling with: MinMaxScaler()\n",
      "\n"
     ]
    },
    {
     "name": "stderr",
     "output_type": "stream",
     "text": [
      "\n"
     ]
    }
   ],
   "source": [
    "# project data into 2D subsapce via 2 step transformation, 1)isomap 2)UMAP\n",
    "projected_data = mapper.fit_transform(data, projection=[manifold.Isomap(n_components=100, n_jobs=-1), UMAP(n_components=2,random_state=1)])"
   ]
  },
  {
   "cell_type": "code",
   "execution_count": 9,
   "metadata": {},
   "outputs": [
    {
     "name": "stdout",
     "output_type": "stream",
     "text": [
      "Mapping on data shaped (464, 568) using lens shaped (464, 2)\n",
      "\n",
      "Creating 100 hypercubes.\n",
      "\n",
      "Created 59 edges and 46 nodes in 0:00:00.053290.\n"
     ]
    }
   ],
   "source": [
    "# cluster data using DBSCAN\n",
    "G = mapper.map(projected_data, data, clusterer=sklearn.cluster.DBSCAN(metric=\"cosine\"))"
   ]
  },
  {
   "cell_type": "code",
   "execution_count": 11,
   "metadata": {},
   "outputs": [],
   "source": [
    "fileID = \"test\""
   ]
  },
  {
   "cell_type": "code",
   "execution_count": 12,
   "metadata": {},
   "outputs": [
    {
     "name": "stdout",
     "output_type": "stream",
     "text": [
      "Wrote visualization to: mapper_example_test.html\n"
     ]
    },
    {
     "name": "stderr",
     "output_type": "stream",
     "text": [
      "/Users/charlesmiller/.local/share/virtualenvs/dynamics_lab-5gulJLF-/lib/python3.9/site-packages/kmapper/visuals.py:344: RuntimeWarning: invalid value encountered in scalar divide\n",
      "  height = np.floor(((bar / max_bucket_value) * 100) + 0.5)\n",
      "/Users/charlesmiller/.local/share/virtualenvs/dynamics_lab-5gulJLF-/lib/python3.9/site-packages/kmapper/visuals.py:345: RuntimeWarning: invalid value encountered in scalar divide\n",
      "  perc = round((bar / sum_bucket_value) * 100.0, 1)\n"
     ]
    },
    {
     "data": {
      "text/html": [
       "<style>\n",
       "        .container { width:100% !important; }\n",
       "        .output_scroll {height: 800px !important;}\n",
       "        </style>"
      ],
      "text/plain": [
       "<IPython.core.display.HTML object>"
      ]
     },
     "metadata": {},
     "output_type": "display_data"
    },
    {
     "name": "stderr",
     "output_type": "stream",
     "text": [
      "/Users/charlesmiller/.local/share/virtualenvs/dynamics_lab-5gulJLF-/lib/python3.9/site-packages/IPython/core/display.py:431: UserWarning: Consider using IPython.display.IFrame instead\n",
      "  warnings.warn(\"Consider using IPython.display.IFrame instead\")\n"
     ]
    },
    {
     "data": {
      "text/html": [
       "<iframe src=mapper_example_test.html width=100%% height=800 frameBorder=\"0\"></iframe>"
      ],
      "text/plain": [
       "<IPython.core.display.HTML object>"
      ]
     },
     "metadata": {},
     "output_type": "display_data"
    }
   ],
   "source": [
    "# visualize graph\n",
    "mapper.visualize(G, \n",
    "                path_html=\"mapper_example_\" + fileID + \".html\",\n",
    "                title=fileID,\n",
    "                custom_tooltips = df_close.columns.to_numpy(),\n",
    "                color_values = np.log(per_return+1),\n",
    "                color_function_name = 'Log Percent Returns',\n",
    "                node_color_function = np.array(['average', 'std', 'sum', 'max', 'min']))\n",
    "\n",
    "# display mapper in jupyter\n",
    "km.jupyter.display(\"mapper_example_\" + fileID + \".html\")"
   ]
  },
  {
   "cell_type": "code",
   "execution_count": null,
   "metadata": {},
   "outputs": [],
   "source": []
  },
  {
   "cell_type": "code",
   "execution_count": null,
   "metadata": {},
   "outputs": [],
   "source": []
  }
 ],
 "metadata": {
  "kernelspec": {
   "display_name": "dynamics_lab-5gulJLF-",
   "language": "python",
   "name": "python3"
  },
  "language_info": {
   "codemirror_mode": {
    "name": "ipython",
    "version": 3
   },
   "file_extension": ".py",
   "mimetype": "text/x-python",
   "name": "python",
   "nbconvert_exporter": "python",
   "pygments_lexer": "ipython3",
   "version": "3.9.18"
  }
 },
 "nbformat": 4,
 "nbformat_minor": 2
}
