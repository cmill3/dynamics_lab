{
 "cells": [
  {
   "cell_type": "code",
   "execution_count": 1,
   "metadata": {},
   "outputs": [],
   "source": [
    "# os.environ[\"CUDA_DEVICE_ORDER\"] = \"PCI_BUS_ID\"\n",
    "# os.environ[\"CUDA_VISIBLE_DEVICES\"] = \"2\"\n",
    "# os.environ['KMP_DUPLICATE_LIB_OK'] = 'TRUE'\n",
    "import tensorflow as tf\n",
    "import sys\n",
    "import os\n",
    "file = \"/Users/charlesmiller/Documents/Code/dynamics_lab/DSDL/DLAESINDy/analyze/analyze.ipynb\"\n",
    "sys.path.append(os.path.dirname(os.path.dirname(os.path.abspath(file))))\n",
    "\n",
    "\n",
    "from analyze import get_names, read_results, delete_results, get_cases, params_names, load_results"
   ]
  },
  {
   "cell_type": "code",
   "execution_count": 2,
   "metadata": {},
   "outputs": [],
   "source": [
    "import datetime\n",
    "import numpy as np\n",
    "import matplotlib.pyplot as plt\n",
    "from pickle5 import pickle\n",
    "\n",
    "import pdb\n",
    "\n",
    "import matplotlib.pyplot as plt\n",
    "from mpl_toolkits.mplot3d import Axes3D\n",
    "%matplotlib inline\n",
    "\n",
    "\n",
    "from os import listdir\n",
    "\n",
    "import pandas as pd\n",
    "# from IPython.display import display"
   ]
  },
  {
   "cell_type": "code",
   "execution_count": 3,
   "metadata": {},
   "outputs": [
    {
     "name": "stdout",
     "output_type": "stream",
     "text": [
      "pendulum_basic\n",
      "/Users/charlesmiller/Documents/Code/dynamics_lab/DSDL/DLAESINDy/testcases/results/\n"
     ]
    }
   ],
   "source": [
    "path='/Users/charlesmiller/Documents/Code/dynamics_lab/DSDL/DLAESINDy/testcases/results/'\n",
    "cases = get_cases(path, filter_case=None, print_cases=True)\n",
    "p1, p2, p3 = params_names()\n",
    "print(path)"
   ]
  },
  {
   "cell_type": "code",
   "execution_count": 4,
   "metadata": {},
   "outputs": [
    {
     "name": "stdout",
     "output_type": "stream",
     "text": [
      "0 results_202409231627_pendulum_basic\n"
     ]
    }
   ],
   "source": [
    "name_list = get_names(cases, path)\n",
    "for idx, name in enumerate(name_list): print(idx, name) "
   ]
  },
  {
   "cell_type": "code",
   "execution_count": 5,
   "metadata": {},
   "outputs": [
    {
     "name": "stdout",
     "output_type": "stream",
     "text": [
      "name:  results_202409231627_pendulum_basic\n",
      "/Users/charlesmiller/Documents/Code/dynamics_lab/DSDL/DLAESINDy/testcases/results/results_202409231627_pendulum_basic\n",
      "<class 'aesindy.model.Sindy_Autoencoder'> could not be deserialized properly. Please ensure that components that are Python object instances (layers, models, etc.) returned by `get_config()` are explicitly deserialized in the model's `from_config()` method.\n",
      "\n",
      "config={'module': 'aesindy.model', 'class_name': 'Sindy_Autoencoder', 'config': {'name': 'sindy__autoencoder', 'trainable': True, 'dtype': {'module': 'keras', 'class_name': 'DTypePolicy', 'config': {'name': 'float32'}, 'registered_name': None}}, 'registered_name': 'Sindy_Autoencoder', 'build_config': {'input_shape': [[32, 80], [32, 80]]}, 'compile_config': {'optimizer': {'module': 'keras.optimizers', 'class_name': 'Adam', 'config': {'name': 'adam', 'learning_rate': 0.0010000000474974513, 'weight_decay': None, 'clipnorm': None, 'global_clipnorm': None, 'clipvalue': None, 'use_ema': False, 'ema_momentum': 0.99, 'ema_overwrite_frequency': None, 'loss_scale_factor': None, 'gradient_accumulation_steps': None, 'beta_1': 0.9, 'beta_2': 0.999, 'epsilon': 1e-07, 'amsgrad': False}, 'registered_name': None}, 'loss': 'mse', 'loss_weights': None, 'metrics': None, 'weighted_metrics': None, 'run_eagerly': False, 'steps_per_execution': 1, 'jit_compile': False}}.\n",
      "\n",
      "Exception encountered: __init__() missing 1 required positional argument: 'params'\n",
      "got results...\n"
     ]
    }
   ],
   "source": [
    "end_time = 30\n",
    "end_time_plot = 100\n",
    "display_params = p1 #primary_params + secondary_params + tertiary_params\n",
    "t0_frac = 0.2\n",
    "query_remove = True\n",
    "\n",
    "non_existing_files, non_existing_params, remove_files = read_results([name_list[0]], \n",
    "                                                        path, \n",
    "                                                        end_time=end_time, \n",
    "                                                        display_params=display_params, \n",
    "                                                        t0_frac=t0_frac, \n",
    "                                                        end_time_plot=end_time_plot,\n",
    "                                                        query_remove=query_remove)"
   ]
  },
  {
   "cell_type": "code",
   "execution_count": null,
   "metadata": {},
   "outputs": [],
   "source": []
  }
 ],
 "metadata": {
  "kernelspec": {
   "display_name": "dynamics_lab-5gulJLF-",
   "language": "python",
   "name": "python3"
  },
  "language_info": {
   "codemirror_mode": {
    "name": "ipython",
    "version": 3
   },
   "file_extension": ".py",
   "mimetype": "text/x-python",
   "name": "python",
   "nbconvert_exporter": "python",
   "pygments_lexer": "ipython3",
   "version": "3.9.18"
  }
 },
 "nbformat": 4,
 "nbformat_minor": 2
}
